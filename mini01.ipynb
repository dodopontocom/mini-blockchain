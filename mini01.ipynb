{
 "cells": [
  {
   "cell_type": "code",
   "execution_count": 8,
   "metadata": {},
   "outputs": [],
   "source": [
    "import datetime\n",
    "import hashlib\n",
    "import json\n",
    "from flask import Flask, jsonify"
   ]
  },
  {
   "cell_type": "markdown",
   "metadata": {},
   "source": [
    "print(\"ok computer\")"
   ]
  },
  {
   "cell_type": "code",
   "execution_count": 9,
   "metadata": {},
   "outputs": [],
   "source": [
    "class Blockchain:\n",
    "    \n",
    "    def __init__(self):\n",
    "        self.chain = []\n",
    "        self.create_block(proof = 1, previous_hash = \"0\")\n",
    "\n",
    "    def create_block(self, proof, previous_hash):\n",
    "        block = {\n",
    "            'index': len(self.chain) + 1,\n",
    "            'timestamp': str(datetime.datetime.now()),\n",
    "            'proof': proof,\n",
    "            'previous_hash': previous_hash\n",
    "        }\n",
    "        self.chain.append(block)\n",
    "        return block\n",
    "\n",
    "    def get_previous_block(self):\n",
    "        return self.chain[-1]\n",
    "\n",
    "    def proof_of_work(self, previous_proof):\n",
    "        new_proof = 1\n",
    "        check_proof = False\n",
    "        while check_proof is False:\n",
    "            hash_operation = hashlib.sha256(str(new_proof**2 - previous_proof**2).encode()).hexdigest()\n",
    "            if hash_operation[:4] == \"0000\":\n",
    "                check_proof = True\n",
    "            else:\n",
    "                new_proof += 1\n",
    "        return new_proof\n",
    "    \n",
    "    def hash(self, block):\n",
    "        encoded_block = json.dumps(block, sort_keys = True).encode()\n",
    "        return hashlib.sha256(encoded_block).hexdigest()\n",
    "\n",
    "    def is_chain_valid(self, chain):\n",
    "        previous_block = chain[0]\n",
    "        block_index = 1\n",
    "        while block_index < len(chain):\n",
    "            block = chain[block_index]\n",
    "            if block['previous_hash'] != self.hash(previous_block):\n",
    "                return False\n",
    "            previous_proof = previous_block['proof']\n",
    "            proof = block['proof']\n",
    "            hash_operation = hashlib.sha256(str(proof**2 - previous_proof**2).encode()).hexdigest()\n",
    "            if hash_operation[:4] != \"0000\":\n",
    "                return False\n",
    "            previous_block = block\n",
    "            block_index += 1\n",
    "        return True"
   ]
  },
  {
   "cell_type": "code",
   "execution_count": 10,
   "metadata": {},
   "outputs": [],
   "source": [
    "app = Flask(__name__)"
   ]
  },
  {
   "cell_type": "code",
   "execution_count": 11,
   "metadata": {},
   "outputs": [],
   "source": [
    "blockchain = Blockchain()"
   ]
  },
  {
   "cell_type": "code",
   "execution_count": 12,
   "metadata": {},
   "outputs": [],
   "source": [
    "@app.route('/mine_block', methods=['GET'])\n",
    "def mine_block():\n",
    "    previous_block = blockchain.get_previous_block()\n",
    "    previous_proof = previous_block['proof']\n",
    "    proof = blockchain.proof_of_work(previous_proof)\n",
    "    previous_hash = blockchain.hash(previous_block)\n",
    "    block = blockchain.create_block(proof, previous_hash)\n",
    "\n",
    "    response = {\n",
    "        'message': \"Congratulation!\",\n",
    "        'index': block['index_key'],\n",
    "        'timestamp': block['timestamp'],\n",
    "        'proof': block['proof'],\n",
    "        'previous_hash': block['previous_hash']\n",
    "        }\n",
    "    return jsonify(response), 200"
   ]
  },
  {
   "cell_type": "code",
   "execution_count": null,
   "metadata": {},
   "outputs": [],
   "source": [
    "    "
   ]
  },
  {
   "cell_type": "code",
   "execution_count": null,
   "metadata": {},
   "outputs": [],
   "source": []
  }
 ],
 "metadata": {
  "interpreter": {
   "hash": "767d51c1340bd893661ea55ea3124f6de3c7a262a8b4abca0554b478b1e2ff90"
  },
  "kernelspec": {
   "display_name": "Python 3.9.2 64-bit",
   "language": "python",
   "name": "python3"
  },
  "language_info": {
   "codemirror_mode": {
    "name": "ipython",
    "version": 3
   },
   "file_extension": ".py",
   "mimetype": "text/x-python",
   "name": "python",
   "nbconvert_exporter": "python",
   "pygments_lexer": "ipython3",
   "version": "3.9.2"
  },
  "orig_nbformat": 4
 },
 "nbformat": 4,
 "nbformat_minor": 2
}
